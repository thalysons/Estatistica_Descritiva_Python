{
 "cells": [
  {
   "cell_type": "markdown",
   "id": "361c3a0b-8be4-4952-8d82-fd99771186f5",
   "metadata": {},
   "source": [
    "## PROCESSAMENTO DE DADOS COM NUMPY, PANDAS E SKLEARN"
   ]
  },
  {
   "cell_type": "code",
   "execution_count": 162,
   "id": "8ae43533-19ae-442d-9f00-22d2d21fd18e",
   "metadata": {},
   "outputs": [],
   "source": [
    "import numpy as np\n",
    "import pandas as pd\n",
    "import random as rd\n",
    "import seaborn as sns\n",
    "import matplotlib.pyplot as plt\n",
    "from sklearn.preprocessing import Normalizer\n",
    "from sklearn.preprocessing import MinMaxScaler\n",
    "sns.set(style=\"whitegrid\", color_codes=True)\n",
    "\n",
    "import warnings\n",
    "warnings.simplefilter(action='ignore', category=FutureWarning)"
   ]
  },
  {
   "cell_type": "markdown",
   "id": "467df293-dd2a-4f91-9131-83583edb65f2",
   "metadata": {},
   "source": [
    "### Remoção de Outliers"
   ]
  },
  {
   "cell_type": "code",
   "execution_count": 163,
   "id": "9fb2d4a8-27b1-479c-b6c2-e828b90a11e6",
   "metadata": {},
   "outputs": [
    {
     "name": "stdout",
     "output_type": "stream",
     "text": [
      "[580, 574, 733, 724, 448, 662, 788, 736, 436, 560, 536, 756, 406, 715, 524, 600, 757, 713, 596, 779, 676, 500, 732, 592, 446, 559, 431, 508, 575, 455, 462, 516, 533, 793, 430, 498, 401, 610, 460, 781, 750, 503, 400, 485, 402, 712, 790, 648, 718, 670, 673, 635, 638, 573, 625, 737, 442, 728, 668, 531, 726, 770, 512, 562, 458, 725, 705, 649, 681, 479, 441, 598, 731, 663, 696, 754, 641, 706, 407, 685, 619, 682, 507, 656, 582, 545, 780, 777, 555, 639, 661, 608, 551, 464, 752, 20, 1322, 1534, 1421]\n"
     ]
    }
   ],
   "source": [
    "notas = rd.sample(range(400, 800), 95)\n",
    "notas+=[20, 1322, 1534, 1421]\n",
    "print(notas)"
   ]
  },
  {
   "cell_type": "code",
   "execution_count": 164,
   "id": "b8516379-720f-4450-8635-206121f836cf",
   "metadata": {},
   "outputs": [
    {
     "data": {
      "text/plain": [
       "<AxesSubplot:>"
      ]
     },
     "execution_count": 164,
     "metadata": {},
     "output_type": "execute_result"
    },
    {
     "data": {
      "image/png": "[encoded data removed]",
      "text/plain": [
       "<Figure size 432x288 with 1 Axes>"
      ]
     },
     "metadata": {},
     "output_type": "display_data"
    }
   ],
   "source": [
    "sns.boxplot(data=notas)"
   ]
  },
  {
   "cell_type": "markdown",
   "id": "330b929a-2221-415d-8d0a-bd66ebdf4b2d",
   "metadata": {},
   "source": [
    "* Média e Mediana:"
   ]
  },
  {
   "cell_type": "code",
   "execution_count": 165,
   "id": "796d3194-104f-4ac6-908f-9e18e6d03304",
   "metadata": {},
   "outputs": [
    {
     "name": "stdout",
     "output_type": "stream",
     "text": [
      "Média Aritmética: 628.01\n",
      "Mediana: 625.0\n"
     ]
    }
   ],
   "source": [
    "print(\"Média Aritmética:\",round(np.mean(notas),3))\n",
    "print(\"Mediana:\",np.median(notas))"
   ]
  },
  {
   "cell_type": "markdown",
   "id": "07c1093e-1748-48a5-bac2-b387767c9f5f",
   "metadata": {},
   "source": [
    "* Desvio Padrão:"
   ]
  },
  {
   "cell_type": "code",
   "execution_count": 166,
   "id": "27e96b84-36f6-4e88-b8c0-a97e1e751e9e",
   "metadata": {},
   "outputs": [
    {
     "name": "stdout",
     "output_type": "stream",
     "text": [
      "Desvio Padrão: 191.018\n"
     ]
    }
   ],
   "source": [
    "print(\"Desvio Padrão:\",round(np.std(notas),3))"
   ]
  },
  {
   "cell_type": "code",
   "execution_count": 167,
   "id": "1d656544-c3b2-4df2-9c33-d31e932ef9f9",
   "metadata": {},
   "outputs": [],
   "source": [
    "mean = np.mean(notas)\n",
    "std = np.std(notas)"
   ]
  },
  {
   "cell_type": "markdown",
   "id": "dedc56ba-105f-4b73-b0b2-ce19290d4619",
   "metadata": {},
   "source": [
    "#### Encontrando e removendo os outliers"
   ]
  },
  {
   "cell_type": "markdown",
   "id": "2a935ca3-5867-4767-86aa-3f00d645d156",
   "metadata": {},
   "source": [
    "* Fronteira abaixo de valor $ mean - (2 x std) $"
   ]
  },
  {
   "cell_type": "code",
   "execution_count": 168,
   "id": "9dd3a5ce-1dd9-4ffe-acbc-da46f4686b9c",
   "metadata": {},
   "outputs": [
    {
     "data": {
      "text/plain": [
       "245.9750933646945"
      ]
     },
     "execution_count": 168,
     "metadata": {},
     "output_type": "execute_result"
    }
   ],
   "source": [
    "mean - (2*std)"
   ]
  },
  {
   "cell_type": "code",
   "execution_count": 169,
   "id": "2fb4d5a0-b61c-4c8c-8aa4-dec4d2a548b0",
   "metadata": {},
   "outputs": [
    {
     "name": "stdout",
     "output_type": "stream",
     "text": [
      "[20]\n"
     ]
    }
   ],
   "source": [
    "list = []\n",
    "for i in notas:\n",
    "    if (i < mean - 2 * std):\n",
    "        list += [i]\n",
    "print(list)"
   ]
  },
  {
   "cell_type": "markdown",
   "id": "f2a19d52-924d-403a-8275-e6ea2963d0e9",
   "metadata": {},
   "source": [
    "* Fronteira acima de valor $ mean + (2 x std) $"
   ]
  },
  {
   "cell_type": "code",
   "execution_count": 170,
   "id": "1dae9bfb-c3a2-4b60-993e-960ef94adc5a",
   "metadata": {},
   "outputs": [
    {
     "data": {
      "text/plain": [
       "1010.0451086555076"
      ]
     },
     "execution_count": 170,
     "metadata": {},
     "output_type": "execute_result"
    }
   ],
   "source": [
    "mean + (2*std)"
   ]
  },
  {
   "cell_type": "code",
   "execution_count": 171,
   "id": "37b6696b-9156-43a0-887e-2ceb44f10b5c",
   "metadata": {},
   "outputs": [
    {
     "name": "stdout",
     "output_type": "stream",
     "text": [
      "[1322, 1534, 1421]\n"
     ]
    }
   ],
   "source": [
    "list = []\n",
    "for i in notas:\n",
    "    if (i > mean + 2 * std):\n",
    "        list += [i]\n",
    "print(list)"
   ]
  },
  {
   "cell_type": "markdown",
   "id": "d3a50c83-8c30-4d99-ab3c-2c9ae9c3b06e",
   "metadata": {},
   "source": [
    "* Remoção dos valores encontrados acima e abaixo das fronteiras"
   ]
  },
  {
   "cell_type": "code",
   "execution_count": 176,
   "id": "9c978585-550b-4084-b8bb-861d8939e666",
   "metadata": {},
   "outputs": [
    {
     "name": "stdout",
     "output_type": "stream",
     "text": [
      "[580, 574, 733, 724, 448, 662, 788, 736, 436, 560, 536, 756, 406, 715, 524, 600, 757, 713, 596, 779, 676, 500, 732, 592, 446, 559, 431, 508, 575, 455, 462, 516, 533, 793, 430, 498, 401, 610, 460, 781, 750, 503, 400, 485, 402, 712, 790, 648, 718, 670, 673, 635, 638, 573, 625, 737, 442, 728, 668, 531, 726, 770, 512, 562, 458, 725, 705, 649, 681, 479, 441, 598, 731, 663, 696, 754, 641, 706, 407, 685, 619, 682, 507, 656, 582, 545, 780, 777, 555, 639, 661, 608, 551, 464, 752]\n"
     ]
    }
   ],
   "source": [
    "notas_att = [i for i in notas if (i < mean + 2 * std)]\n",
    "notas_att = [i for i in notas_att if (i > mean - 2 * std)]\n",
    "print(notas_att)"
   ]
  },
  {
   "cell_type": "markdown",
   "id": "d4ddfe53-6d9e-4171-8c95-f3b99955a391",
   "metadata": {},
   "source": [
    "* Criando um gráfico que apresenta um dataset sem outliers presentes:"
   ]
  },
  {
   "cell_type": "code",
   "execution_count": 177,
   "id": "5f092bec-e17e-43ba-b90f-f92cee0495fc",
   "metadata": {},
   "outputs": [
    {
     "data": {
      "text/plain": [
       "<AxesSubplot:>"
      ]
     },
     "execution_count": 177,
     "metadata": {},
     "output_type": "execute_result"
    },
    {
     "data": {
      "image/png": "[encoded data removed]",
      "text/plain": [
       "<Figure size 432x288 with 1 Axes>"
      ]
     },
     "metadata": {},
     "output_type": "display_data"
    }
   ],
   "source": [
    "sns.boxplot(data=notas_att)"
   ]
  },
  {
   "cell_type": "markdown",
   "id": "50650ae2-83f0-42c7-bc20-d081d3aa3a48",
   "metadata": {},
   "source": [
    "### Discretização de dados "
   ]
  },
  {
   "cell_type": "markdown",
   "id": "3f857c9b-f2ff-4c41-b1d6-8122b9c4d670",
   "metadata": {},
   "source": [
    "* Vamos considerar uma lista de valores onde eles indicam a qualidade de um produto de 0 a 10, sendo 0 indicativo de péssima qualidade."
   ]
  },
  {
   "cell_type": "code",
   "execution_count": 20,
   "id": "5dcd9057-63cf-4d84-8795-13bb747daa84",
   "metadata": {},
   "outputs": [
    {
     "name": "stdout",
     "output_type": "stream",
     "text": [
      "[0, 0, 0, 1, 1, 2, 4, 4, 4, 5, 6, 7, 7, 7, 8, 8, 9, 10, 10, 10]\n"
     ]
    }
   ],
   "source": [
    "quality = [rd.randrange(0, 11) for i in range(20)]\n",
    "quality = sorted(quality)\n",
    "print(quality)"
   ]
  },
  {
   "cell_type": "markdown",
   "id": "16c0b958-7e35-450e-bbe2-3739e7da94e2",
   "metadata": {},
   "source": [
    "* Utilizamos a função \"qcut\" do pandas para realizar a discretização dos dados, separando em 3 categorias: Ruim, Regular e Bom."
   ]
  },
  {
   "cell_type": "code",
   "execution_count": 21,
   "id": "ddb53397-1bbe-43ca-8de7-10215b5b515c",
   "metadata": {},
   "outputs": [],
   "source": [
    "quality_data = quality.copy()\n",
    "quality_data = pd.qcut(quality_data, 3, labels=[\"Ruim\", \"Regular\", \"Bom\"])"
   ]
  },
  {
   "cell_type": "code",
   "execution_count": 22,
   "id": "676cd208-9628-4380-aa21-616720e7530e",
   "metadata": {},
   "outputs": [
    {
     "data": {
      "text/plain": [
       "Ruim       9\n",
       "Regular    5\n",
       "Bom        6\n",
       "dtype: int64"
      ]
     },
     "execution_count": 22,
     "metadata": {},
     "output_type": "execute_result"
    }
   ],
   "source": [
    "quality_data.value_counts()"
   ]
  },
  {
   "cell_type": "code",
   "execution_count": 23,
   "id": "4285179a-c210-4b02-9c28-98d562bf7eb3",
   "metadata": {},
   "outputs": [
    {
     "name": "stdout",
     "output_type": "stream",
     "text": [
      "0 : Ruim\n",
      "0 : Ruim\n",
      "0 : Ruim\n",
      "1 : Ruim\n",
      "1 : Ruim\n",
      "2 : Ruim\n",
      "4 : Ruim\n",
      "4 : Ruim\n",
      "4 : Ruim\n",
      "5 : Regular\n",
      "6 : Regular\n",
      "7 : Regular\n",
      "7 : Regular\n",
      "7 : Regular\n",
      "8 : Bom\n",
      "8 : Bom\n",
      "9 : Bom\n",
      "10 : Bom\n",
      "10 : Bom\n",
      "10 : Bom\n"
     ]
    }
   ],
   "source": [
    "for i in range(len(quality)):\n",
    "    print(quality[i], \":\", quality_data[i])"
   ]
  },
  {
   "cell_type": "markdown",
   "id": "5ca17c79-8e64-4d11-92df-00e2d0f66833",
   "metadata": {},
   "source": [
    "* Verificando a discretização de dados em um dataset real:"
   ]
  },
  {
   "cell_type": "code",
   "execution_count": 26,
   "id": "9fe39059-af79-436c-a7e3-749fbd51c32e",
   "metadata": {},
   "outputs": [],
   "source": [
    "df_wine = pd.read_csv(\"data/wine_dataset.csv\")"
   ]
  },
  {
   "cell_type": "code",
   "execution_count": 27,
   "id": "489d848d-a62f-43ae-9d00-d17d55356979",
   "metadata": {},
   "outputs": [
    {
     "data": {
      "text/plain": [
       "6    2836\n",
       "5    2138\n",
       "7    1079\n",
       "4     216\n",
       "8     193\n",
       "3      30\n",
       "9       5\n",
       "Name: quality, dtype: int64"
      ]
     },
     "execution_count": 27,
     "metadata": {},
     "output_type": "execute_result"
    }
   ],
   "source": [
    "df_wine[\"quality\"].value_counts()"
   ]
  },
  {
   "cell_type": "code",
   "execution_count": 28,
   "id": "af4eb0ff-8745-47b7-a61d-9a7bb6d0844e",
   "metadata": {},
   "outputs": [
    {
     "data": {
      "text/plain": [
       "<AxesSubplot:xlabel='quality', ylabel='Count'>"
      ]
     },
     "execution_count": 28,
     "metadata": {},
     "output_type": "execute_result"
    },
    {
     "data": {
      "image/png": "[encoded data removed]",
      "text/plain": [
       "<Figure size 432x288 with 1 Axes>"
      ]
     },
     "metadata": {},
     "output_type": "display_data"
    }
   ],
   "source": [
    "sns.histplot(df_wine[\"quality\"])"
   ]
  },
  {
   "cell_type": "code",
   "execution_count": 29,
   "id": "374a970c-f8e8-4075-abd6-632d847eaba7",
   "metadata": {},
   "outputs": [],
   "source": [
    "df_wine_att = df_wine.copy()\n",
    "df_wine_att[\"quality\"] = pd.cut(df_wine_att[\"quality\"], 3, labels=[\"Ruim\", \"Regular\", \"Bom\"])"
   ]
  },
  {
   "cell_type": "code",
   "execution_count": 30,
   "id": "b8208242-9195-4c9b-81d6-074328d61dd8",
   "metadata": {},
   "outputs": [
    {
     "data": {
      "text/plain": [
       "Regular    3915\n",
       "Ruim       2384\n",
       "Bom         198\n",
       "Name: quality, dtype: int64"
      ]
     },
     "execution_count": 30,
     "metadata": {},
     "output_type": "execute_result"
    }
   ],
   "source": [
    "df_wine_att[\"quality\"].value_counts()"
   ]
  },
  {
   "cell_type": "code",
   "execution_count": 31,
   "id": "0677ac8c-323f-4af6-b0c7-8fc4dc69a4ec",
   "metadata": {},
   "outputs": [
    {
     "data": {
      "text/plain": [
       "<AxesSubplot:xlabel='quality', ylabel='Count'>"
      ]
     },
     "execution_count": 31,
     "metadata": {},
     "output_type": "execute_result"
    },
    {
     "data": {
      "image/png": "[encoded data removed]",
      "text/plain": [
       "<Figure size 432x288 with 1 Axes>"
      ]
     },
     "metadata": {},
     "output_type": "display_data"
    }
   ],
   "source": [
    "sns.histplot(df_wine_att[\"quality\"])"
   ]
  },
  {
   "cell_type": "markdown",
   "id": "c860dfb2-22f3-4e54-b8a4-fdd9b5e76a20",
   "metadata": {},
   "source": [
    "### Normalização dos dados\n",
    "Normalização é muito importante para alterar dados que possuem valores muito distantes entre eles."
   ]
  },
  {
   "cell_type": "markdown",
   "id": "aad45624-db33-44bf-a4f2-ef612d064933",
   "metadata": {},
   "source": [
    "* Nesses dados verificamos uma variância muito grande entre o menor valor e o maior:"
   ]
  },
  {
   "cell_type": "code",
   "execution_count": 77,
   "id": "dd7dd6e9-6ca5-4142-9863-f56d4fbf7877",
   "metadata": {},
   "outputs": [
    {
     "name": "stdout",
     "output_type": "stream",
     "text": [
      "[[-1.   2. ]\n",
      " [ 0.5  6. ]\n",
      " [ 0.  10. ]\n",
      " [ 1.  18. ]]\n"
     ]
    }
   ],
   "source": [
    "data = np.array([[-1, 2],\n",
    "                 [0.5,6],\n",
    "                 [0, 10],\n",
    "                 [1, 18]])\n",
    "print(data)"
   ]
  },
  {
   "cell_type": "code",
   "execution_count": 78,
   "id": "e8324eb3-7624-4f3d-8374-29294727c17f",
   "metadata": {},
   "outputs": [
    {
     "name": "stdout",
     "output_type": "stream",
     "text": [
      "4.5625\n"
     ]
    }
   ],
   "source": [
    "print(data.mean())"
   ]
  },
  {
   "cell_type": "markdown",
   "id": "16235d6c-02b0-4ca1-8ced-94a251cefaba",
   "metadata": {},
   "source": [
    "* Visualizando a distribuição do array:"
   ]
  },
  {
   "cell_type": "code",
   "execution_count": 80,
   "id": "83db3020-6dd2-4446-a9b8-cb1d48d2d34e",
   "metadata": {},
   "outputs": [
    {
     "data": {
      "image/png": "[encoded data removed]",
      "text/plain": [
       "<Figure size 432x288 with 1 Axes>"
      ]
     },
     "metadata": {},
     "output_type": "display_data"
    }
   ],
   "source": [
    "sns.distplot(data.reshape(-1))\n",
    "plt.show()"
   ]
  },
  {
   "cell_type": "markdown",
   "id": "1f50e2a7-3f9d-4be2-ba26-e6a4cc8f6935",
   "metadata": {},
   "source": [
    "* Normalizando os dados"
   ]
  },
  {
   "cell_type": "code",
   "execution_count": 81,
   "id": "ac2728ec-cd16-49fa-a87c-cad1f6baead0",
   "metadata": {},
   "outputs": [
    {
     "name": "stdout",
     "output_type": "stream",
     "text": [
      "[[-0.4472136   0.89442719]\n",
      " [ 0.08304548  0.99654576]\n",
      " [ 0.          1.        ]\n",
      " [ 0.05547002  0.99846035]]\n"
     ]
    }
   ],
   "source": [
    "normalizer = Normalizer().fit(data)\n",
    "\n",
    "data_normalized = normalizer.transform(data)\n",
    "print(data_normalized)"
   ]
  },
  {
   "cell_type": "code",
   "execution_count": 82,
   "id": "82a8d6cb-621a-4d04-9462-086f800103fc",
   "metadata": {},
   "outputs": [
    {
     "name": "stdout",
     "output_type": "stream",
     "text": [
      "Média dos dados normalizados: 0.4476\n"
     ]
    }
   ],
   "source": [
    "print(\"Média dos dados normalizados:\",round(data_normalized.mean(),4))"
   ]
  },
  {
   "cell_type": "code",
   "execution_count": 84,
   "id": "edf2d63f-c7b9-4745-9e6c-2ad5981cf25e",
   "metadata": {},
   "outputs": [
    {
     "data": {
      "image/png": "[encoded data removed]",
      "text/plain": [
       "<Figure size 432x288 with 1 Axes>"
      ]
     },
     "metadata": {},
     "output_type": "display_data"
    }
   ],
   "source": [
    "sns.distplot(data_normalized.reshape(-1))\n",
    "plt.show()"
   ]
  },
  {
   "cell_type": "markdown",
   "id": "a907f255-81b9-4ad1-b344-17eebe3e3983",
   "metadata": {},
   "source": [
    "### Estandartização dos dados"
   ]
  },
  {
   "cell_type": "code",
   "execution_count": 131,
   "id": "45dbb2ea-1368-4916-be32-955f4151918d",
   "metadata": {},
   "outputs": [
    {
     "name": "stdout",
     "output_type": "stream",
     "text": [
      "[ 0.63895321  0.96100303 -0.2245811   0.45224692 -0.44101774  1.53184799\n",
      " -0.31455479  0.65417782 -1.21957824 -0.81148952  0.48814219 -0.62700802\n",
      " -0.77670459  1.68256863  2.4488142   1.63467353 -0.69606801 -0.09096229\n",
      "  2.05848082  0.65589856 -1.95899169 -0.14581874 -0.05645563  1.86329756\n",
      " -0.02213928 -0.25381423 -0.1491941  -0.27190708  0.09514477  0.08753043\n",
      " -0.57147642 -0.45992517 -1.06742753 -1.46138227 -0.48799396 -0.50587167\n",
      "  1.44577641  2.0030755  -1.33853614  0.08024762 -1.01233533  0.43561466\n",
      " -0.41829118 -1.19715528  1.00880995  0.68501119 -0.59873861  1.0703739\n",
      " -0.78214262  0.44605426]\n"
     ]
    }
   ],
   "source": [
    "data = np.random.normal(size=50)\n",
    "print(data)"
   ]
  },
  {
   "cell_type": "code",
   "execution_count": 132,
   "id": "b018ada2-ad5d-4fb5-bfa3-7df8abfb50ac",
   "metadata": {},
   "outputs": [
    {
     "data": {
      "image/png": "[encoded data removed]",
      "text/plain": [
       "<Figure size 432x288 with 1 Axes>"
      ]
     },
     "metadata": {},
     "output_type": "display_data"
    }
   ],
   "source": [
    "sns.distplot(data.reshape(-1))\n",
    "plt.show()"
   ]
  },
  {
   "cell_type": "markdown",
   "id": "1adfe59f-d93d-44c3-85e7-012ca4cd0eb6",
   "metadata": {},
   "source": [
    "* Realizando a estandartização dos dados:"
   ]
  },
  {
   "cell_type": "code",
   "execution_count": 133,
   "id": "b6ecf9bc-f888-4317-9565-f2aa6d83e791",
   "metadata": {},
   "outputs": [
    {
     "name": "stdout",
     "output_type": "stream",
     "text": [
      "[[0.58939639 0.66245992 0.39348615 0.54703829 0.34438312 0.79196765\n",
      "  0.3730738  0.59285041 0.16775091 0.2603341  0.55518186 0.30218746\n",
      "  0.26822576 0.82616168 1.         0.81529571 0.2865198  0.42380029\n",
      "  0.91144497 0.59324079 0.         0.41135499 0.43162882 0.8671637\n",
      "  0.43941418 0.38685403 0.41058922 0.3827493  0.46602244 0.46429497\n",
      "  0.31478593 0.34009359 0.20226938 0.11289277 0.33372562 0.32966969\n",
      "  0.77244057 0.89887515 0.1407629  0.46264272 0.21476816 0.54326493\n",
      "  0.3495391  0.17283801 0.67330588 0.59984558 0.30860095 0.68727291\n",
      "  0.26699204 0.54563336]]\n"
     ]
    }
   ],
   "source": [
    "data = data.reshape(-1, 1)\n",
    "scaler = MinMaxScaler().fit(data.reshape(-1, 1))\n",
    "\n",
    "data_scaled = scaler.transform(data)\n",
    "print(data_scaled.reshape(1,-1))"
   ]
  },
  {
   "cell_type": "code",
   "execution_count": 134,
   "id": "7ee6bcfa-1474-4965-b608-602df273d4fc",
   "metadata": {},
   "outputs": [
    {
     "data": {
      "image/png": "[encoded data removed]",
      "text/plain": [
       "<Figure size 432x288 with 1 Axes>"
      ]
     },
     "metadata": {},
     "output_type": "display_data"
    }
   ],
   "source": [
    "sns.distplot(data_scaled)\n",
    "plt.show()"
   ]
  },
  {
   "cell_type": "markdown",
   "id": "c2f09aad-142a-4dea-86be-be6bf3ec765c",
   "metadata": {},
   "source": [
    "* Ela não altera a faixa de distribuição, somente os valores."
   ]
  }
 ],
 "metadata": {
  "kernelspec": {
   "display_name": "Python 3 (ipykernel)",
   "language": "python",
   "name": "python3"
  },
  "language_info": {
   "codemirror_mode": {
    "name": "ipython",
    "version": 3
   },
   "file_extension": ".py",
   "mimetype": "text/x-python",
   "name": "python",
   "nbconvert_exporter": "python",
   "pygments_lexer": "ipython3",
   "version": "3.9.12"
  }
 },
 "nbformat": 4,
 "nbformat_minor": 5
}
