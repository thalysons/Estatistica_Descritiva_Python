{
 "cells": [
  {
   "cell_type": "code",
   "execution_count": 34,
   "id": "33964192-2e1e-4300-8698-d8ad343aa397",
   "metadata": {},
   "outputs": [],
   "source": [
    "import pandas as pd\n",
    "import numpy as np"
   ]
  },
  {
   "cell_type": "code",
   "execution_count": 67,
   "id": "ed13fea6-fe96-426f-b02c-1e8a31b42462",
   "metadata": {},
   "outputs": [],
   "source": [
    "df = pd.read_csv(\"mtcars.csv\")"
   ]
  },
  {
   "cell_type": "code",
   "execution_count": 68,
   "id": "e1048489-0b2a-463c-ac17-2e0d9206c6ec",
   "metadata": {},
   "outputs": [
    {
     "data": {
      "text/html": [
       "<div>\n",
       "<style scoped>\n",
       "    .dataframe tbody tr th:only-of-type {\n",
       "        vertical-align: middle;\n",
       "    }\n",
       "\n",
       "    .dataframe tbody tr th {\n",
       "        vertical-align: top;\n",
       "    }\n",
       "\n",
       "    .dataframe thead th {\n",
       "        text-align: right;\n",
       "    }\n",
       "</style>\n",
       "<table border=\"1\" class=\"dataframe\">\n",
       "  <thead>\n",
       "    <tr style=\"text-align: right;\">\n",
       "      <th></th>\n",
       "      <th>model</th>\n",
       "      <th>mpg</th>\n",
       "      <th>cyl</th>\n",
       "      <th>disp</th>\n",
       "      <th>hp</th>\n",
       "      <th>drat</th>\n",
       "      <th>wt</th>\n",
       "      <th>qsec</th>\n",
       "      <th>vs</th>\n",
       "      <th>am</th>\n",
       "      <th>gear</th>\n",
       "      <th>carb</th>\n",
       "    </tr>\n",
       "  </thead>\n",
       "  <tbody>\n",
       "    <tr>\n",
       "      <th>0</th>\n",
       "      <td>Mazda RX4</td>\n",
       "      <td>21.0</td>\n",
       "      <td>6</td>\n",
       "      <td>160.0</td>\n",
       "      <td>110</td>\n",
       "      <td>3.90</td>\n",
       "      <td>2.620</td>\n",
       "      <td>16.46</td>\n",
       "      <td>0</td>\n",
       "      <td>1</td>\n",
       "      <td>4</td>\n",
       "      <td>4</td>\n",
       "    </tr>\n",
       "    <tr>\n",
       "      <th>1</th>\n",
       "      <td>Mazda RX4 Wag</td>\n",
       "      <td>21.0</td>\n",
       "      <td>6</td>\n",
       "      <td>160.0</td>\n",
       "      <td>110</td>\n",
       "      <td>3.90</td>\n",
       "      <td>2.875</td>\n",
       "      <td>17.02</td>\n",
       "      <td>0</td>\n",
       "      <td>1</td>\n",
       "      <td>4</td>\n",
       "      <td>4</td>\n",
       "    </tr>\n",
       "    <tr>\n",
       "      <th>2</th>\n",
       "      <td>Datsun 710</td>\n",
       "      <td>22.8</td>\n",
       "      <td>4</td>\n",
       "      <td>108.0</td>\n",
       "      <td>93</td>\n",
       "      <td>3.85</td>\n",
       "      <td>2.320</td>\n",
       "      <td>18.61</td>\n",
       "      <td>1</td>\n",
       "      <td>1</td>\n",
       "      <td>4</td>\n",
       "      <td>1</td>\n",
       "    </tr>\n",
       "  </tbody>\n",
       "</table>\n",
       "</div>"
      ],
      "text/plain": [
       "           model   mpg  cyl   disp   hp  drat     wt   qsec  vs  am  gear  \\\n",
       "0      Mazda RX4  21.0    6  160.0  110  3.90  2.620  16.46   0   1     4   \n",
       "1  Mazda RX4 Wag  21.0    6  160.0  110  3.90  2.875  17.02   0   1     4   \n",
       "2     Datsun 710  22.8    4  108.0   93  3.85  2.320  18.61   1   1     4   \n",
       "\n",
       "   carb  \n",
       "0     4  \n",
       "1     4  \n",
       "2     1  "
      ]
     },
     "execution_count": 68,
     "metadata": {},
     "output_type": "execute_result"
    }
   ],
   "source": [
    "df.head(3)"
   ]
  },
  {
   "cell_type": "code",
   "execution_count": 17,
   "id": "f0749e68-54f5-4e1c-8260-37970886f6ae",
   "metadata": {},
   "outputs": [
    {
     "name": "stdout",
     "output_type": "stream",
     "text": [
      "<class 'pandas.core.frame.DataFrame'>\n",
      "RangeIndex: 32 entries, 0 to 31\n",
      "Data columns (total 12 columns):\n",
      " #   Column  Non-Null Count  Dtype  \n",
      "---  ------  --------------  -----  \n",
      " 0   model   32 non-null     object \n",
      " 1   mpg     32 non-null     float64\n",
      " 2   cyl     32 non-null     int64  \n",
      " 3   disp    32 non-null     float64\n",
      " 4   hp      32 non-null     int64  \n",
      " 5   drat    32 non-null     float64\n",
      " 6   wt      32 non-null     float64\n",
      " 7   qsec    32 non-null     float64\n",
      " 8   vs      32 non-null     int64  \n",
      " 9   am      32 non-null     int64  \n",
      " 10  gear    32 non-null     int64  \n",
      " 11  carb    32 non-null     int64  \n",
      "dtypes: float64(5), int64(6), object(1)\n",
      "memory usage: 3.1+ KB\n"
     ]
    }
   ],
   "source": [
    "df.info()"
   ]
  },
  {
   "cell_type": "markdown",
   "id": "e43e0b55-dfa0-4f1d-b829-e8807d7c14ac",
   "metadata": {},
   "source": [
    "Somente uma coluna possui dados não numéricos"
   ]
  },
  {
   "cell_type": "markdown",
   "id": "ca2e17a3-7111-4a45-a65b-488851c7940f",
   "metadata": {},
   "source": [
    "#### Soma dos dados"
   ]
  },
  {
   "cell_type": "code",
   "execution_count": 8,
   "id": "a0965a92-be4d-4de4-8454-f186b02e422f",
   "metadata": {},
   "outputs": [
    {
     "data": {
      "text/plain": [
       "model    Mazda RX4Mazda RX4 WagDatsun 710Hornet 4 Drive...\n",
       "mpg                                                  642.9\n",
       "cyl                                                    198\n",
       "disp                                                7383.1\n",
       "hp                                                    4694\n",
       "drat                                                115.09\n",
       "wt                                                 102.952\n",
       "qsec                                                571.16\n",
       "vs                                                      14\n",
       "am                                                      13\n",
       "gear                                                   118\n",
       "carb                                                    90\n",
       "dtype: object"
      ]
     },
     "execution_count": 8,
     "metadata": {},
     "output_type": "execute_result"
    }
   ],
   "source": [
    "df.sum()"
   ]
  },
  {
   "cell_type": "markdown",
   "id": "0050382c-274d-4416-8be4-789e6ab595ba",
   "metadata": {},
   "source": [
    "#### Mediana"
   ]
  },
  {
   "cell_type": "code",
   "execution_count": 11,
   "id": "ff68439d-2b4e-41f6-bd7b-599734b86ab2",
   "metadata": {},
   "outputs": [
    {
     "data": {
      "text/plain": [
       "mpg      19.200\n",
       "cyl       6.000\n",
       "disp    196.300\n",
       "hp      123.000\n",
       "drat      3.695\n",
       "wt        3.325\n",
       "qsec     17.710\n",
       "vs        0.000\n",
       "am        0.000\n",
       "gear      4.000\n",
       "carb      2.000\n",
       "dtype: float64"
      ]
     },
     "execution_count": 11,
     "metadata": {},
     "output_type": "execute_result"
    }
   ],
   "source": [
    "df.median(numeric_only=True)"
   ]
  },
  {
   "cell_type": "markdown",
   "id": "517b13e8-a6c0-4632-8b50-0dc3e1aaba22",
   "metadata": {},
   "source": [
    "#### Média Aritmética"
   ]
  },
  {
   "cell_type": "code",
   "execution_count": 14,
   "id": "39d28da4-0aea-4dec-93a7-f3eb5657b660",
   "metadata": {},
   "outputs": [
    {
     "data": {
      "text/plain": [
       "mpg      20.090625\n",
       "cyl       6.187500\n",
       "disp    230.721875\n",
       "hp      146.687500\n",
       "drat      3.596563\n",
       "wt        3.217250\n",
       "qsec     17.848750\n",
       "vs        0.437500\n",
       "am        0.406250\n",
       "gear      3.687500\n",
       "carb      2.812500\n",
       "dtype: float64"
      ]
     },
     "execution_count": 14,
     "metadata": {},
     "output_type": "execute_result"
    }
   ],
   "source": [
    "df.mean(numeric_only=True)"
   ]
  },
  {
   "cell_type": "markdown",
   "id": "f964139b-ec17-4a26-a11b-c390810cf607",
   "metadata": {},
   "source": [
    "#### Valor Máximo"
   ]
  },
  {
   "cell_type": "code",
   "execution_count": 16,
   "id": "2e9b692b-7afc-497d-9155-b239b6dcf139",
   "metadata": {},
   "outputs": [
    {
     "data": {
      "text/plain": [
       "mpg      33.900\n",
       "cyl       8.000\n",
       "disp    472.000\n",
       "hp      335.000\n",
       "drat      4.930\n",
       "wt        5.424\n",
       "qsec     22.900\n",
       "vs        1.000\n",
       "am        1.000\n",
       "gear      5.000\n",
       "carb      8.000\n",
       "dtype: float64"
      ]
     },
     "execution_count": 16,
     "metadata": {},
     "output_type": "execute_result"
    }
   ],
   "source": [
    "df.max(numeric_only=True)"
   ]
  },
  {
   "cell_type": "markdown",
   "id": "f98ed33e-9410-47fa-9d64-21eb631933d5",
   "metadata": {},
   "source": [
    "#### Valor Mínimo"
   ]
  },
  {
   "cell_type": "code",
   "execution_count": 18,
   "id": "8382b090-c6a5-4032-8f9e-23b50a4c268a",
   "metadata": {},
   "outputs": [
    {
     "data": {
      "text/plain": [
       "mpg     10.400\n",
       "cyl      4.000\n",
       "disp    71.100\n",
       "hp      52.000\n",
       "drat     2.760\n",
       "wt       1.513\n",
       "qsec    14.500\n",
       "vs       0.000\n",
       "am       0.000\n",
       "gear     3.000\n",
       "carb     1.000\n",
       "dtype: float64"
      ]
     },
     "execution_count": 18,
     "metadata": {},
     "output_type": "execute_result"
    }
   ],
   "source": [
    "df.min(numeric_only=True)"
   ]
  },
  {
   "cell_type": "code",
   "execution_count": 23,
   "id": "6e2b88e8-fe40-4889-b04e-9ee0b85322c5",
   "metadata": {},
   "outputs": [
    {
     "data": {
      "text/plain": [
       "19"
      ]
     },
     "execution_count": 23,
     "metadata": {},
     "output_type": "execute_result"
    }
   ],
   "source": [
    "# O idxmax nos retorna onde o valor máximo se encontra no dataset\n",
    "df[\"mpg\"].idxmax()"
   ]
  },
  {
   "cell_type": "markdown",
   "id": "cdb7b4e9-1083-4cd9-843c-2984c23f521c",
   "metadata": {},
   "source": [
    "#### Variância"
   ]
  },
  {
   "cell_type": "code",
   "execution_count": 27,
   "id": "9d783292-c7c2-4d87-9d26-3a3e03d3707d",
   "metadata": {},
   "outputs": [
    {
     "data": {
      "text/plain": [
       "mpg        36.324103\n",
       "cyl         3.189516\n",
       "disp    15360.799829\n",
       "hp       4700.866935\n",
       "drat        0.285881\n",
       "wt          0.957379\n",
       "qsec        3.193166\n",
       "vs          0.254032\n",
       "am          0.248992\n",
       "gear        0.544355\n",
       "carb        2.608871\n",
       "dtype: float64"
      ]
     },
     "execution_count": 27,
     "metadata": {},
     "output_type": "execute_result"
    }
   ],
   "source": [
    "df.var(numeric_only=True)"
   ]
  },
  {
   "cell_type": "markdown",
   "id": "e85f2ca3-7d04-4b6f-a441-4590c825a0e6",
   "metadata": {},
   "source": [
    "#### Desvio Padrão"
   ]
  },
  {
   "cell_type": "code",
   "execution_count": 28,
   "id": "4c6c1db8-e4df-49e9-a4f1-15c6ab347d69",
   "metadata": {},
   "outputs": [
    {
     "data": {
      "text/plain": [
       "mpg       6.026948\n",
       "cyl       1.785922\n",
       "disp    123.938694\n",
       "hp       68.562868\n",
       "drat      0.534679\n",
       "wt        0.978457\n",
       "qsec      1.786943\n",
       "vs        0.504016\n",
       "am        0.498991\n",
       "gear      0.737804\n",
       "carb      1.615200\n",
       "dtype: float64"
      ]
     },
     "execution_count": 28,
     "metadata": {},
     "output_type": "execute_result"
    }
   ],
   "source": [
    "df.std(numeric_only=True)"
   ]
  },
  {
   "cell_type": "markdown",
   "id": "d15bab0b-c529-4e73-878b-088d2e42f773",
   "metadata": {},
   "source": [
    "### Pandas"
   ]
  },
  {
   "cell_type": "markdown",
   "id": "02c87277-55ad-4100-81ce-85885a55ebd0",
   "metadata": {},
   "source": [
    "* Função value_counts ->\n",
    "retorna o número de valores de cada variável de uma coluna"
   ]
  },
  {
   "cell_type": "code",
   "execution_count": 31,
   "id": "1e93b687-d6ab-4081-a0ee-4cd6d2e0b4f6",
   "metadata": {},
   "outputs": [
    {
     "data": {
      "text/plain": [
       "8    14\n",
       "4    11\n",
       "6     7\n",
       "Name: cyl, dtype: int64"
      ]
     },
     "execution_count": 31,
     "metadata": {},
     "output_type": "execute_result"
    }
   ],
   "source": [
    "df[\"cyl\"].value_counts()"
   ]
  },
  {
   "cell_type": "markdown",
   "id": "1ff7c257-6646-4af7-90eb-3385913ea7e3",
   "metadata": {},
   "source": [
    "* Função describe ->\n",
    "realiza as descrições estatísticas de todas as colunas númericas"
   ]
  },
  {
   "cell_type": "code",
   "execution_count": 32,
   "id": "888cf131-d68d-43ea-8dfe-cd8ad2caf49a",
   "metadata": {},
   "outputs": [
    {
     "data": {
      "text/html": [
       "<div>\n",
       "<style scoped>\n",
       "    .dataframe tbody tr th:only-of-type {\n",
       "        vertical-align: middle;\n",
       "    }\n",
       "\n",
       "    .dataframe tbody tr th {\n",
       "        vertical-align: top;\n",
       "    }\n",
       "\n",
       "    .dataframe thead th {\n",
       "        text-align: right;\n",
       "    }\n",
       "</style>\n",
       "<table border=\"1\" class=\"dataframe\">\n",
       "  <thead>\n",
       "    <tr style=\"text-align: right;\">\n",
       "      <th></th>\n",
       "      <th>mpg</th>\n",
       "      <th>cyl</th>\n",
       "      <th>disp</th>\n",
       "      <th>hp</th>\n",
       "      <th>drat</th>\n",
       "      <th>wt</th>\n",
       "      <th>qsec</th>\n",
       "      <th>vs</th>\n",
       "      <th>am</th>\n",
       "      <th>gear</th>\n",
       "      <th>carb</th>\n",
       "    </tr>\n",
       "  </thead>\n",
       "  <tbody>\n",
       "    <tr>\n",
       "      <th>count</th>\n",
       "      <td>32.000000</td>\n",
       "      <td>32.000000</td>\n",
       "      <td>32.000000</td>\n",
       "      <td>32.000000</td>\n",
       "      <td>32.000000</td>\n",
       "      <td>32.000000</td>\n",
       "      <td>32.000000</td>\n",
       "      <td>32.000000</td>\n",
       "      <td>32.000000</td>\n",
       "      <td>32.000000</td>\n",
       "      <td>32.0000</td>\n",
       "    </tr>\n",
       "    <tr>\n",
       "      <th>mean</th>\n",
       "      <td>20.090625</td>\n",
       "      <td>6.187500</td>\n",
       "      <td>230.721875</td>\n",
       "      <td>146.687500</td>\n",
       "      <td>3.596563</td>\n",
       "      <td>3.217250</td>\n",
       "      <td>17.848750</td>\n",
       "      <td>0.437500</td>\n",
       "      <td>0.406250</td>\n",
       "      <td>3.687500</td>\n",
       "      <td>2.8125</td>\n",
       "    </tr>\n",
       "    <tr>\n",
       "      <th>std</th>\n",
       "      <td>6.026948</td>\n",
       "      <td>1.785922</td>\n",
       "      <td>123.938694</td>\n",
       "      <td>68.562868</td>\n",
       "      <td>0.534679</td>\n",
       "      <td>0.978457</td>\n",
       "      <td>1.786943</td>\n",
       "      <td>0.504016</td>\n",
       "      <td>0.498991</td>\n",
       "      <td>0.737804</td>\n",
       "      <td>1.6152</td>\n",
       "    </tr>\n",
       "    <tr>\n",
       "      <th>min</th>\n",
       "      <td>10.400000</td>\n",
       "      <td>4.000000</td>\n",
       "      <td>71.100000</td>\n",
       "      <td>52.000000</td>\n",
       "      <td>2.760000</td>\n",
       "      <td>1.513000</td>\n",
       "      <td>14.500000</td>\n",
       "      <td>0.000000</td>\n",
       "      <td>0.000000</td>\n",
       "      <td>3.000000</td>\n",
       "      <td>1.0000</td>\n",
       "    </tr>\n",
       "    <tr>\n",
       "      <th>25%</th>\n",
       "      <td>15.425000</td>\n",
       "      <td>4.000000</td>\n",
       "      <td>120.825000</td>\n",
       "      <td>96.500000</td>\n",
       "      <td>3.080000</td>\n",
       "      <td>2.581250</td>\n",
       "      <td>16.892500</td>\n",
       "      <td>0.000000</td>\n",
       "      <td>0.000000</td>\n",
       "      <td>3.000000</td>\n",
       "      <td>2.0000</td>\n",
       "    </tr>\n",
       "    <tr>\n",
       "      <th>50%</th>\n",
       "      <td>19.200000</td>\n",
       "      <td>6.000000</td>\n",
       "      <td>196.300000</td>\n",
       "      <td>123.000000</td>\n",
       "      <td>3.695000</td>\n",
       "      <td>3.325000</td>\n",
       "      <td>17.710000</td>\n",
       "      <td>0.000000</td>\n",
       "      <td>0.000000</td>\n",
       "      <td>4.000000</td>\n",
       "      <td>2.0000</td>\n",
       "    </tr>\n",
       "    <tr>\n",
       "      <th>75%</th>\n",
       "      <td>22.800000</td>\n",
       "      <td>8.000000</td>\n",
       "      <td>326.000000</td>\n",
       "      <td>180.000000</td>\n",
       "      <td>3.920000</td>\n",
       "      <td>3.610000</td>\n",
       "      <td>18.900000</td>\n",
       "      <td>1.000000</td>\n",
       "      <td>1.000000</td>\n",
       "      <td>4.000000</td>\n",
       "      <td>4.0000</td>\n",
       "    </tr>\n",
       "    <tr>\n",
       "      <th>max</th>\n",
       "      <td>33.900000</td>\n",
       "      <td>8.000000</td>\n",
       "      <td>472.000000</td>\n",
       "      <td>335.000000</td>\n",
       "      <td>4.930000</td>\n",
       "      <td>5.424000</td>\n",
       "      <td>22.900000</td>\n",
       "      <td>1.000000</td>\n",
       "      <td>1.000000</td>\n",
       "      <td>5.000000</td>\n",
       "      <td>8.0000</td>\n",
       "    </tr>\n",
       "  </tbody>\n",
       "</table>\n",
       "</div>"
      ],
      "text/plain": [
       "             mpg        cyl        disp          hp       drat         wt  \\\n",
       "count  32.000000  32.000000   32.000000   32.000000  32.000000  32.000000   \n",
       "mean   20.090625   6.187500  230.721875  146.687500   3.596563   3.217250   \n",
       "std     6.026948   1.785922  123.938694   68.562868   0.534679   0.978457   \n",
       "min    10.400000   4.000000   71.100000   52.000000   2.760000   1.513000   \n",
       "25%    15.425000   4.000000  120.825000   96.500000   3.080000   2.581250   \n",
       "50%    19.200000   6.000000  196.300000  123.000000   3.695000   3.325000   \n",
       "75%    22.800000   8.000000  326.000000  180.000000   3.920000   3.610000   \n",
       "max    33.900000   8.000000  472.000000  335.000000   4.930000   5.424000   \n",
       "\n",
       "            qsec         vs         am       gear     carb  \n",
       "count  32.000000  32.000000  32.000000  32.000000  32.0000  \n",
       "mean   17.848750   0.437500   0.406250   3.687500   2.8125  \n",
       "std     1.786943   0.504016   0.498991   0.737804   1.6152  \n",
       "min    14.500000   0.000000   0.000000   3.000000   1.0000  \n",
       "25%    16.892500   0.000000   0.000000   3.000000   2.0000  \n",
       "50%    17.710000   0.000000   0.000000   4.000000   2.0000  \n",
       "75%    18.900000   1.000000   1.000000   4.000000   4.0000  \n",
       "max    22.900000   1.000000   1.000000   5.000000   8.0000  "
      ]
     },
     "execution_count": 32,
     "metadata": {},
     "output_type": "execute_result"
    }
   ],
   "source": [
    "df.describe()"
   ]
  },
  {
   "cell_type": "markdown",
   "id": "56d77286-6b90-4beb-b605-acce3ca707f0",
   "metadata": {},
   "source": [
    "### Analisando Dados Categóricos"
   ]
  },
  {
   "cell_type": "markdown",
   "id": "c771caae-6334-42b8-a3c9-6d84246dcbb8",
   "metadata": {},
   "source": [
    "Coluna | Especificação\n",
    "-|-\n",
    "mpg | Milhas por galã\n",
    "cyl | Nº de cilindros\n",
    "disp | Deslocamento, em polegadas cúbicas\n",
    "hp | Horse Power (cavalo vapor)\n",
    "drat | Relação do eixo de transmissão\n",
    "wt | Altura\n",
    "qsec | Tempo de 1/4 de milha; uma medida de aceleração\n",
    "vs | Forma do motor\n",
    "am | Câmbio automático ou manual\n",
    "gear | Nº de marchas\n",
    "carb | Nº de carburadores"
   ]
  },
  {
   "cell_type": "markdown",
   "id": "bdf22aa8-cb5f-4f94-a68f-59acc71cdc15",
   "metadata": {},
   "source": [
    "#### Dados categóricos"
   ]
  },
  {
   "cell_type": "code",
   "execution_count": 36,
   "id": "ebc827f8-687a-4269-868a-8ac7f9439638",
   "metadata": {},
   "outputs": [
    {
     "data": {
      "text/html": [
       "<div>\n",
       "<style scoped>\n",
       "    .dataframe tbody tr th:only-of-type {\n",
       "        vertical-align: middle;\n",
       "    }\n",
       "\n",
       "    .dataframe tbody tr th {\n",
       "        vertical-align: top;\n",
       "    }\n",
       "\n",
       "    .dataframe thead th {\n",
       "        text-align: right;\n",
       "    }\n",
       "</style>\n",
       "<table border=\"1\" class=\"dataframe\">\n",
       "  <thead>\n",
       "    <tr style=\"text-align: right;\">\n",
       "      <th></th>\n",
       "      <th>cyl</th>\n",
       "      <th>am</th>\n",
       "      <th>gear</th>\n",
       "      <th>carb</th>\n",
       "    </tr>\n",
       "  </thead>\n",
       "  <tbody>\n",
       "    <tr>\n",
       "      <th>0</th>\n",
       "      <td>6</td>\n",
       "      <td>1</td>\n",
       "      <td>4</td>\n",
       "      <td>4</td>\n",
       "    </tr>\n",
       "    <tr>\n",
       "      <th>1</th>\n",
       "      <td>6</td>\n",
       "      <td>1</td>\n",
       "      <td>4</td>\n",
       "      <td>4</td>\n",
       "    </tr>\n",
       "  </tbody>\n",
       "</table>\n",
       "</div>"
      ],
      "text/plain": [
       "   cyl  am  gear  carb\n",
       "0    6   1     4     4\n",
       "1    6   1     4     4"
      ]
     },
     "execution_count": 36,
     "metadata": {},
     "output_type": "execute_result"
    }
   ],
   "source": [
    "df_cat = df[[\"cyl\",\"am\",\"gear\",\"carb\"]]\n",
    "df_cat.head(2)"
   ]
  },
  {
   "cell_type": "code",
   "execution_count": 44,
   "id": "9b9fb081-b6c6-4838-aaef-e794755cf3f7",
   "metadata": {},
   "outputs": [
    {
     "data": {
      "text/html": [
       "<div>\n",
       "<style scoped>\n",
       "    .dataframe tbody tr th:only-of-type {\n",
       "        vertical-align: middle;\n",
       "    }\n",
       "\n",
       "    .dataframe tbody tr th {\n",
       "        vertical-align: top;\n",
       "    }\n",
       "\n",
       "    .dataframe thead th {\n",
       "        text-align: right;\n",
       "    }\n",
       "</style>\n",
       "<table border=\"1\" class=\"dataframe\">\n",
       "  <thead>\n",
       "    <tr style=\"text-align: right;\">\n",
       "      <th></th>\n",
       "      <th>gear</th>\n",
       "      <th>3</th>\n",
       "      <th>4</th>\n",
       "      <th>5</th>\n",
       "    </tr>\n",
       "  </thead>\n",
       "  <tbody>\n",
       "    <tr>\n",
       "      <th rowspan=\"8\" valign=\"top\">cyl</th>\n",
       "      <th>count</th>\n",
       "      <td>15.000000</td>\n",
       "      <td>12.000000</td>\n",
       "      <td>5.000000</td>\n",
       "    </tr>\n",
       "    <tr>\n",
       "      <th>mean</th>\n",
       "      <td>7.466667</td>\n",
       "      <td>4.666667</td>\n",
       "      <td>6.000000</td>\n",
       "    </tr>\n",
       "    <tr>\n",
       "      <th>std</th>\n",
       "      <td>1.187234</td>\n",
       "      <td>0.984732</td>\n",
       "      <td>2.000000</td>\n",
       "    </tr>\n",
       "    <tr>\n",
       "      <th>min</th>\n",
       "      <td>4.000000</td>\n",
       "      <td>4.000000</td>\n",
       "      <td>4.000000</td>\n",
       "    </tr>\n",
       "    <tr>\n",
       "      <th>25%</th>\n",
       "      <td>8.000000</td>\n",
       "      <td>4.000000</td>\n",
       "      <td>4.000000</td>\n",
       "    </tr>\n",
       "    <tr>\n",
       "      <th>50%</th>\n",
       "      <td>8.000000</td>\n",
       "      <td>4.000000</td>\n",
       "      <td>6.000000</td>\n",
       "    </tr>\n",
       "    <tr>\n",
       "      <th>75%</th>\n",
       "      <td>8.000000</td>\n",
       "      <td>6.000000</td>\n",
       "      <td>8.000000</td>\n",
       "    </tr>\n",
       "    <tr>\n",
       "      <th>max</th>\n",
       "      <td>8.000000</td>\n",
       "      <td>6.000000</td>\n",
       "      <td>8.000000</td>\n",
       "    </tr>\n",
       "    <tr>\n",
       "      <th rowspan=\"8\" valign=\"top\">am</th>\n",
       "      <th>count</th>\n",
       "      <td>15.000000</td>\n",
       "      <td>12.000000</td>\n",
       "      <td>5.000000</td>\n",
       "    </tr>\n",
       "    <tr>\n",
       "      <th>mean</th>\n",
       "      <td>0.000000</td>\n",
       "      <td>0.666667</td>\n",
       "      <td>1.000000</td>\n",
       "    </tr>\n",
       "    <tr>\n",
       "      <th>std</th>\n",
       "      <td>0.000000</td>\n",
       "      <td>0.492366</td>\n",
       "      <td>0.000000</td>\n",
       "    </tr>\n",
       "    <tr>\n",
       "      <th>min</th>\n",
       "      <td>0.000000</td>\n",
       "      <td>0.000000</td>\n",
       "      <td>1.000000</td>\n",
       "    </tr>\n",
       "    <tr>\n",
       "      <th>25%</th>\n",
       "      <td>0.000000</td>\n",
       "      <td>0.000000</td>\n",
       "      <td>1.000000</td>\n",
       "    </tr>\n",
       "    <tr>\n",
       "      <th>50%</th>\n",
       "      <td>0.000000</td>\n",
       "      <td>1.000000</td>\n",
       "      <td>1.000000</td>\n",
       "    </tr>\n",
       "    <tr>\n",
       "      <th>75%</th>\n",
       "      <td>0.000000</td>\n",
       "      <td>1.000000</td>\n",
       "      <td>1.000000</td>\n",
       "    </tr>\n",
       "    <tr>\n",
       "      <th>max</th>\n",
       "      <td>0.000000</td>\n",
       "      <td>1.000000</td>\n",
       "      <td>1.000000</td>\n",
       "    </tr>\n",
       "    <tr>\n",
       "      <th rowspan=\"8\" valign=\"top\">carb</th>\n",
       "      <th>count</th>\n",
       "      <td>15.000000</td>\n",
       "      <td>12.000000</td>\n",
       "      <td>5.000000</td>\n",
       "    </tr>\n",
       "    <tr>\n",
       "      <th>mean</th>\n",
       "      <td>2.666667</td>\n",
       "      <td>2.333333</td>\n",
       "      <td>4.400000</td>\n",
       "    </tr>\n",
       "    <tr>\n",
       "      <th>std</th>\n",
       "      <td>1.175139</td>\n",
       "      <td>1.302678</td>\n",
       "      <td>2.607681</td>\n",
       "    </tr>\n",
       "    <tr>\n",
       "      <th>min</th>\n",
       "      <td>1.000000</td>\n",
       "      <td>1.000000</td>\n",
       "      <td>2.000000</td>\n",
       "    </tr>\n",
       "    <tr>\n",
       "      <th>25%</th>\n",
       "      <td>2.000000</td>\n",
       "      <td>1.000000</td>\n",
       "      <td>2.000000</td>\n",
       "    </tr>\n",
       "    <tr>\n",
       "      <th>50%</th>\n",
       "      <td>3.000000</td>\n",
       "      <td>2.000000</td>\n",
       "      <td>4.000000</td>\n",
       "    </tr>\n",
       "    <tr>\n",
       "      <th>75%</th>\n",
       "      <td>4.000000</td>\n",
       "      <td>4.000000</td>\n",
       "      <td>6.000000</td>\n",
       "    </tr>\n",
       "    <tr>\n",
       "      <th>max</th>\n",
       "      <td>4.000000</td>\n",
       "      <td>4.000000</td>\n",
       "      <td>8.000000</td>\n",
       "    </tr>\n",
       "  </tbody>\n",
       "</table>\n",
       "</div>"
      ],
      "text/plain": [
       "gear                3          4         5\n",
       "cyl  count  15.000000  12.000000  5.000000\n",
       "     mean    7.466667   4.666667  6.000000\n",
       "     std     1.187234   0.984732  2.000000\n",
       "     min     4.000000   4.000000  4.000000\n",
       "     25%     8.000000   4.000000  4.000000\n",
       "     50%     8.000000   4.000000  6.000000\n",
       "     75%     8.000000   6.000000  8.000000\n",
       "     max     8.000000   6.000000  8.000000\n",
       "am   count  15.000000  12.000000  5.000000\n",
       "     mean    0.000000   0.666667  1.000000\n",
       "     std     0.000000   0.492366  0.000000\n",
       "     min     0.000000   0.000000  1.000000\n",
       "     25%     0.000000   0.000000  1.000000\n",
       "     50%     0.000000   1.000000  1.000000\n",
       "     75%     0.000000   1.000000  1.000000\n",
       "     max     0.000000   1.000000  1.000000\n",
       "carb count  15.000000  12.000000  5.000000\n",
       "     mean    2.666667   2.333333  4.400000\n",
       "     std     1.175139   1.302678  2.607681\n",
       "     min     1.000000   1.000000  2.000000\n",
       "     25%     2.000000   1.000000  2.000000\n",
       "     50%     3.000000   2.000000  4.000000\n",
       "     75%     4.000000   4.000000  6.000000\n",
       "     max     4.000000   4.000000  8.000000"
      ]
     },
     "execution_count": 44,
     "metadata": {},
     "output_type": "execute_result"
    }
   ],
   "source": [
    "df_gearsgroup = df_cat.groupby(\"gear\")\n",
    "df_gearsgroup.describe().T"
   ]
  },
  {
   "cell_type": "markdown",
   "id": "5ac9bac1-b0cf-47ae-ab21-e268f69449df",
   "metadata": {},
   "source": [
    "#### Transformação de variáveis em categorias"
   ]
  },
  {
   "cell_type": "code",
   "execution_count": 72,
   "id": "a221fc4a-c17e-4a9d-8bc0-7865fde04200",
   "metadata": {},
   "outputs": [
    {
     "data": {
      "text/plain": [
       "model\n",
       "Mazda RX4            4\n",
       "Mazda RX4 Wag        4\n",
       "Datsun 710           4\n",
       "Hornet 4 Drive       3\n",
       "Hornet Sportabout    3\n",
       "Name: group, dtype: category\n",
       "Categories (3, int64): [3, 4, 5]"
      ]
     },
     "execution_count": 72,
     "metadata": {},
     "output_type": "execute_result"
    }
   ],
   "source": [
    "df_cars = df.copy()\n",
    "df_cars.index = df_cars['model']\n",
    "df_cars[\"group\"] = pd.Series(df_cars[\"gear\"],dtype=\"category\")\n",
    "df_cars[\"group\"].head()"
   ]
  },
  {
   "cell_type": "markdown",
   "id": "e88e9234-1738-4374-b1f8-0b99b8685584",
   "metadata": {},
   "source": [
    "#### Tabulação de dados cruzados"
   ]
  },
  {
   "cell_type": "code",
   "execution_count": 74,
   "id": "21b2effa-74f5-4d1c-83b4-561d54d9f9dc",
   "metadata": {},
   "outputs": [
    {
     "data": {
      "text/html": [
       "<div>\n",
       "<style scoped>\n",
       "    .dataframe tbody tr th:only-of-type {\n",
       "        vertical-align: middle;\n",
       "    }\n",
       "\n",
       "    .dataframe tbody tr th {\n",
       "        vertical-align: top;\n",
       "    }\n",
       "\n",
       "    .dataframe thead th {\n",
       "        text-align: right;\n",
       "    }\n",
       "</style>\n",
       "<table border=\"1\" class=\"dataframe\">\n",
       "  <thead>\n",
       "    <tr style=\"text-align: right;\">\n",
       "      <th>gear</th>\n",
       "      <th>3</th>\n",
       "      <th>4</th>\n",
       "      <th>5</th>\n",
       "    </tr>\n",
       "    <tr>\n",
       "      <th>am</th>\n",
       "      <th></th>\n",
       "      <th></th>\n",
       "      <th></th>\n",
       "    </tr>\n",
       "  </thead>\n",
       "  <tbody>\n",
       "    <tr>\n",
       "      <th>0</th>\n",
       "      <td>15</td>\n",
       "      <td>4</td>\n",
       "      <td>0</td>\n",
       "    </tr>\n",
       "    <tr>\n",
       "      <th>1</th>\n",
       "      <td>0</td>\n",
       "      <td>8</td>\n",
       "      <td>5</td>\n",
       "    </tr>\n",
       "  </tbody>\n",
       "</table>\n",
       "</div>"
      ],
      "text/plain": [
       "gear   3  4  5\n",
       "am            \n",
       "0     15  4  0\n",
       "1      0  8  5"
      ]
     },
     "execution_count": 74,
     "metadata": {},
     "output_type": "execute_result"
    }
   ],
   "source": [
    "pd.crosstab(df_cars[\"am\"],df_cars[\"gear\"])"
   ]
  },
  {
   "cell_type": "markdown",
   "id": "ca6554ff-5633-4df8-a15c-f32ab95b81ac",
   "metadata": {},
   "source": [
    "### Coeficiente de Pearson"
   ]
  },
  {
   "cell_type": "code",
   "execution_count": null,
   "id": "db72c0bf-ffa3-4a71-8e97-e28e1202f4c1",
   "metadata": {},
   "outputs": [],
   "source": [
    "import matplotlib.pyplot as plt\n",
    "import seaborn as sns\n",
    "from pylab import rcParams\n",
    "%matplotlib inline\n",
    "rcParams['figure.figsize'] = 6, 3\n",
    "sns.set_style(\"whitegrid\")"
   ]
  },
  {
   "cell_type": "code",
   "execution_count": 89,
   "id": "db60b7f6-fd29-4a55-8a11-62cec150f166",
   "metadata": {},
   "outputs": [],
   "source": [
    "from scipy.stats import pearsonr"
   ]
  },
  {
   "cell_type": "code",
   "execution_count": 84,
   "id": "61ef37f5-7702-4040-b65c-41de01d71a32",
   "metadata": {},
   "outputs": [
    {
     "data": {
      "text/plain": [
       "<seaborn.axisgrid.PairGrid at 0x1ff688de040>"
      ]
     },
     "execution_count": 84,
     "metadata": {},
     "output_type": "execute_result"
    },
    {
     "data": {
      "image/png": "[encoded data removed]",
      "text/plain": [
       "<Figure size 720x720 with 20 Axes>"
      ]
     },
     "metadata": {},
     "output_type": "display_data"
    }
   ],
   "source": [
    "X = df[[\"mpg\",\"hp\",\"wt\",\"qsec\"]]\n",
    "sns.pairplot(X)"
   ]
  },
  {
   "cell_type": "markdown",
   "id": "3d3e4b10-e9ca-4d69-84fa-129454da9197",
   "metadata": {},
   "source": [
    "#### Calculando e Visualizando coeficiente de Pearson\n",
    "Sua intensidade varia de -1 a +1 e nos mostra a relação que as duas variáveis possuem entre elas."
   ]
  },
  {
   "cell_type": "code",
   "execution_count": 85,
   "id": "72e7e970-3366-4b6b-9859-35aea248f11a",
   "metadata": {},
   "outputs": [],
   "source": [
    "mpg = df[\"mpg\"]\n",
    "hp = df[\"hp\"]\n",
    "qsec = df[\"qsec\"]\n",
    "wt = df[\"wt\"]"
   ]
  },
  {
   "cell_type": "code",
   "execution_count": 101,
   "id": "21efe2f1-961d-43c9-ac60-034a495eef79",
   "metadata": {},
   "outputs": [
    {
     "name": "stdout",
     "output_type": "stream",
     "text": [
      "Coeficiente de Pearson MpG x HP: -0.776\n",
      "Coeficiente de Pearson MpG x QSec: 0.419\n",
      "Coeficiente de Pearson MpG x Weight: -0.868\n"
     ]
    }
   ],
   "source": [
    "coeficiente_pearson, p_valor = pearsonr(mpg, hp)\n",
    "print(\"Coeficiente de Pearson MpG x HP:\",round(coeficiente_pearson,3))\n",
    "\n",
    "coeficiente_pearson, p_valor = pearsonr(mpg, qsec)\n",
    "print(\"Coeficiente de Pearson MpG x QSec:\",round(coeficiente_pearson,3))\n",
    "\n",
    "coeficiente_pearson, p_valor = pearsonr(mpg, wt)\n",
    "print(\"Coeficiente de Pearson MpG x Weight:\",round(coeficiente_pearson,3))"
   ]
  },
  {
   "cell_type": "markdown",
   "id": "a2640a3c-f56b-47b0-8451-a20d360c48d1",
   "metadata": {},
   "source": [
    "    "
   ]
  },
  {
   "cell_type": "code",
   "execution_count": 103,
   "id": "f8e42d64-de68-4297-9ff4-ceda755efadd",
   "metadata": {},
   "outputs": [
    {
     "data": {
      "text/html": [
       "<div>\n",
       "<style scoped>\n",
       "    .dataframe tbody tr th:only-of-type {\n",
       "        vertical-align: middle;\n",
       "    }\n",
       "\n",
       "    .dataframe tbody tr th {\n",
       "        vertical-align: top;\n",
       "    }\n",
       "\n",
       "    .dataframe thead th {\n",
       "        text-align: right;\n",
       "    }\n",
       "</style>\n",
       "<table border=\"1\" class=\"dataframe\">\n",
       "  <thead>\n",
       "    <tr style=\"text-align: right;\">\n",
       "      <th></th>\n",
       "      <th>mpg</th>\n",
       "      <th>hp</th>\n",
       "      <th>wt</th>\n",
       "      <th>qsec</th>\n",
       "    </tr>\n",
       "  </thead>\n",
       "  <tbody>\n",
       "    <tr>\n",
       "      <th>mpg</th>\n",
       "      <td>1.000000</td>\n",
       "      <td>-0.776168</td>\n",
       "      <td>-0.867659</td>\n",
       "      <td>0.418684</td>\n",
       "    </tr>\n",
       "    <tr>\n",
       "      <th>hp</th>\n",
       "      <td>-0.776168</td>\n",
       "      <td>1.000000</td>\n",
       "      <td>0.658748</td>\n",
       "      <td>-0.708223</td>\n",
       "    </tr>\n",
       "    <tr>\n",
       "      <th>wt</th>\n",
       "      <td>-0.867659</td>\n",
       "      <td>0.658748</td>\n",
       "      <td>1.000000</td>\n",
       "      <td>-0.174716</td>\n",
       "    </tr>\n",
       "    <tr>\n",
       "      <th>qsec</th>\n",
       "      <td>0.418684</td>\n",
       "      <td>-0.708223</td>\n",
       "      <td>-0.174716</td>\n",
       "      <td>1.000000</td>\n",
       "    </tr>\n",
       "  </tbody>\n",
       "</table>\n",
       "</div>"
      ],
      "text/plain": [
       "           mpg        hp        wt      qsec\n",
       "mpg   1.000000 -0.776168 -0.867659  0.418684\n",
       "hp   -0.776168  1.000000  0.658748 -0.708223\n",
       "wt   -0.867659  0.658748  1.000000 -0.174716\n",
       "qsec  0.418684 -0.708223 -0.174716  1.000000"
      ]
     },
     "execution_count": 103,
     "metadata": {},
     "output_type": "execute_result"
    }
   ],
   "source": [
    "corr = X.corr()\n",
    "corr"
   ]
  },
  {
   "cell_type": "code",
   "execution_count": 105,
   "id": "34e5e4dc-769f-45e8-a204-50077d4a049d",
   "metadata": {},
   "outputs": [
    {
     "data": {
      "text/plain": [
       "<AxesSubplot:>"
      ]
     },
     "execution_count": 105,
     "metadata": {},
     "output_type": "execute_result"
    },
    {
     "data": {
      "image/png": "[encoded data removed]",
      "text/plain": [
       "<Figure size 432x216 with 2 Axes>"
      ]
     },
     "metadata": {},
     "output_type": "display_data"
    }
   ],
   "source": [
    "sns.heatmap(corr,\n",
    "            xticklabels=corr.columns.values,\n",
    "            yticklabels=corr.columns.values)"
   ]
  },
  {
   "cell_type": "markdown",
   "id": "f68d089e-67ec-4d2f-ac52-d52acf5f90e1",
   "metadata": {},
   "source": [
    "### Correlação de Spearman\n",
    "Assim como correlação de Pearson, existe uma variação de -1 a +1 e nos mostra a relação que as duas variáveis, dessa vez CATEGÓRICAS, possuem entre elas."
   ]
  },
  {
   "cell_type": "code",
   "execution_count": 107,
   "id": "49a51fbc-5992-44ef-8c49-564baab964d8",
   "metadata": {},
   "outputs": [],
   "source": [
    "from scipy.stats import spearmanr"
   ]
  },
  {
   "cell_type": "code",
   "execution_count": 109,
   "id": "03dc39de-03d5-4d93-af50-f652ac3c9dd7",
   "metadata": {},
   "outputs": [
    {
     "data": {
      "text/plain": [
       "<seaborn.axisgrid.PairGrid at 0x1ff68463160>"
      ]
     },
     "execution_count": 109,
     "metadata": {},
     "output_type": "execute_result"
    },
    {
     "data": {
      "image/png": "[encoded data removed]",
      "text/plain": [
       "<Figure size 720x720 with 20 Axes>"
      ]
     },
     "metadata": {},
     "output_type": "display_data"
    }
   ],
   "source": [
    "X2 = df[[\"cyl\", \"vs\", \"am\", \"gear\"]]\n",
    "sns.pairplot(X2)"
   ]
  },
  {
   "cell_type": "markdown",
   "id": "25e5e9c6-57c1-42f1-b48f-cc85ddafaa61",
   "metadata": {},
   "source": [
    "Como podemos observar, os scatter plots nos mostram que são variáveis ordinais(categóricas). E os histogramas não possuem distribuição normal."
   ]
  },
  {
   "cell_type": "code",
   "execution_count": 111,
   "id": "2c6bb971-bc82-4bdd-aa8c-9867a833670d",
   "metadata": {},
   "outputs": [],
   "source": [
    "cyl = df[\"cyl\"]\n",
    "vs = df[\"vs\"]\n",
    "am = df[\"am\"]\n",
    "gear = df[\"gear\"]"
   ]
  },
  {
   "cell_type": "code",
   "execution_count": 112,
   "id": "d0ddf0b7-b1bb-4113-8be7-8f03d905ccb9",
   "metadata": {},
   "outputs": [
    {
     "name": "stdout",
     "output_type": "stream",
     "text": [
      "Coeficiente de Pearson MpG x HP: -0.814\n",
      "Coeficiente de Pearson MpG x QSec: -0.522\n",
      "Coeficiente de Pearson MpG x Weight: -0.564\n"
     ]
    }
   ],
   "source": [
    "coeficiente_spearman, p_valor = spearmanr(cyl, vs)\n",
    "print(\"Coeficiente de Pearson Cyl x VS:\",round(coeficiente_spearman,3))\n",
    "\n",
    "coeficiente_spearman, p_valor = spearmanr(cyl, am)\n",
    "print(\"Coeficiente de Pearson Cyl x A/M:\",round(coeficiente_spearman,3))\n",
    "\n",
    "coeficiente_spearman, p_valor = spearmanr(cyl, gear)\n",
    "print(\"Coeficiente de Pearson Cyl x Gears:\",round(coeficiente_spearman,3))"
   ]
  },
  {
   "cell_type": "markdown",
   "id": "388714f6-85ef-44f1-8a85-e51ef940931b",
   "metadata": {},
   "source": [
    "### Qui-quadrado"
   ]
  },
  {
   "cell_type": "code",
   "execution_count": 116,
   "id": "3f5f2cd8-917a-4c70-9093-c2afe3b30696",
   "metadata": {},
   "outputs": [],
   "source": [
    "from scipy.stats import chi2_contingency"
   ]
  },
  {
   "cell_type": "code",
   "execution_count": 129,
   "id": "ad36a649-9af1-4e86-b28d-43baf7f2f215",
   "metadata": {},
   "outputs": [
    {
     "name": "stdout",
     "output_type": "stream",
     "text": [
      "-Cyl x VS-\n",
      "Qui-quadrado: 21.34\n",
      "p-valor: 2e-05\n",
      "\n",
      "-Cyl x A/M-\n",
      "Qui-quadrado: 8.741\n",
      "p-valor: 0.013\n",
      "\n",
      "-Cyl x Gears-\n",
      "Qui-quadrado: 18.036\n",
      "p-valor: 0.001\n"
     ]
    }
   ],
   "source": [
    "tab = pd.crosstab(cyl, vs)\n",
    "chi2, p, dof, exp = chi2_contingency(tab.values)\n",
    "print(f\"-Cyl x VS-\\nQui-quadrado: {round(chi2,3)}\\np-valor: {round(p,5)}\\n\")\n",
    "\n",
    "tab = pd.crosstab(cyl, am)\n",
    "chi2, p, dof, exp = chi2_contingency(tab.values)\n",
    "print(f\"-Cyl x A/M-\\nQui-quadrado: {round(chi2,3)}\\np-valor: {round(p,3)}\\n\")\n",
    "\n",
    "tab = pd.crosstab(cyl, gear)\n",
    "chi2, p, dof, exp = chi2_contingency(tab.values)\n",
    "print(f\"-Cyl x Gears-\\nQui-quadrado: {round(chi2,3)}\\np-valor: {round(p,3)}\")"
   ]
  },
  {
   "cell_type": "markdown",
   "id": "a9dfc3de-5fd6-4bbc-86f5-8d598590e905",
   "metadata": {},
   "source": [
    "### Pré Processamento de Dados"
   ]
  },
  {
   "cell_type": "code",
   "execution_count": 130,
   "id": "711b29a4-a0df-4130-b236-6dfa39437e08",
   "metadata": {},
   "outputs": [],
   "source": [
    "from sklearn import preprocessing"
   ]
  },
  {
   "cell_type": "code",
   "execution_count": 133,
   "id": "8aa7686a-b0a9-4b26-99f8-5fc3b4b2c73e",
   "metadata": {},
   "outputs": [
    {
     "data": {
      "text/html": [
       "<div>\n",
       "<style scoped>\n",
       "    .dataframe tbody tr th:only-of-type {\n",
       "        vertical-align: middle;\n",
       "    }\n",
       "\n",
       "    .dataframe tbody tr th {\n",
       "        vertical-align: top;\n",
       "    }\n",
       "\n",
       "    .dataframe thead th {\n",
       "        text-align: right;\n",
       "    }\n",
       "</style>\n",
       "<table border=\"1\" class=\"dataframe\">\n",
       "  <thead>\n",
       "    <tr style=\"text-align: right;\">\n",
       "      <th></th>\n",
       "      <th>mpg</th>\n",
       "    </tr>\n",
       "  </thead>\n",
       "  <tbody>\n",
       "    <tr>\n",
       "      <th>count</th>\n",
       "      <td>32.000000</td>\n",
       "    </tr>\n",
       "    <tr>\n",
       "      <th>mean</th>\n",
       "      <td>20.090625</td>\n",
       "    </tr>\n",
       "    <tr>\n",
       "      <th>std</th>\n",
       "      <td>6.026948</td>\n",
       "    </tr>\n",
       "    <tr>\n",
       "      <th>min</th>\n",
       "      <td>10.400000</td>\n",
       "    </tr>\n",
       "    <tr>\n",
       "      <th>25%</th>\n",
       "      <td>15.425000</td>\n",
       "    </tr>\n",
       "    <tr>\n",
       "      <th>50%</th>\n",
       "      <td>19.200000</td>\n",
       "    </tr>\n",
       "    <tr>\n",
       "      <th>75%</th>\n",
       "      <td>22.800000</td>\n",
       "    </tr>\n",
       "    <tr>\n",
       "      <th>max</th>\n",
       "      <td>33.900000</td>\n",
       "    </tr>\n",
       "  </tbody>\n",
       "</table>\n",
       "</div>"
      ],
      "text/plain": [
       "             mpg\n",
       "count  32.000000\n",
       "mean   20.090625\n",
       "std     6.026948\n",
       "min    10.400000\n",
       "25%    15.425000\n",
       "50%    19.200000\n",
       "75%    22.800000\n",
       "max    33.900000"
      ]
     },
     "execution_count": 133,
     "metadata": {},
     "output_type": "execute_result"
    }
   ],
   "source": [
    "df[[\"mpg\"]].describe()"
   ]
  },
  {
   "cell_type": "markdown",
   "id": "3acf8a5c-6dec-499d-a656-3ff7d684a732",
   "metadata": {},
   "source": [
    "* Normalização e transformação dos dados"
   ]
  },
  {
   "cell_type": "code",
   "execution_count": 141,
   "id": "6e945096-8d6d-43cf-a6f8-23b23691797a",
   "metadata": {},
   "outputs": [
    {
     "data": {
      "text/plain": [
       "[<matplotlib.lines.Line2D at 0x1ff6b803700>]"
      ]
     },
     "execution_count": 141,
     "metadata": {},
     "output_type": "execute_result"
    },
    {
     "data": {
      "image/png": "[encoded data removed]",
      "text/plain": [
       "<Figure size 432x216 with 1 Axes>"
      ]
     },
     "metadata": {},
     "output_type": "display_data"
    }
   ],
   "source": [
    "mpg_matrix = mpg.values.reshape(-1,1)\n",
    "scaler = preprocessing.MinMaxScaler()\n",
    "scaled_mpg = scaler.fit_transform(mpg_matrix)\n",
    "plt.plot(scaled_mpg)"
   ]
  },
  {
   "cell_type": "markdown",
   "id": "1f511310-4fa2-48a4-98f6-d16745ecd819",
   "metadata": {},
   "source": [
    "* Padroninzando as variáveis"
   ]
  },
  {
   "cell_type": "code",
   "execution_count": 146,
   "id": "8e920c30-4a41-4f4a-b757-ce7b8a52f5fe",
   "metadata": {},
   "outputs": [
    {
     "data": {
      "text/plain": [
       "[<matplotlib.lines.Line2D at 0x1ff6b9f20d0>]"
      ]
     },
     "execution_count": 146,
     "metadata": {},
     "output_type": "execute_result"
    },
    {
     "data": {
      "image/png": "[encoded data removed]",
      "text/plain": [
       "<Figure size 432x216 with 1 Axes>"
      ]
     },
     "metadata": {},
     "output_type": "display_data"
    }
   ],
   "source": [
    "mpg_padronizado = preprocessing.scale(mpg)\n",
    "plt.plot(mpg_padronizado)"
   ]
  }
 ],
 "metadata": {
  "kernelspec": {
   "display_name": "Python 3 (ipykernel)",
   "language": "python",
   "name": "python3"
  },
  "language_info": {
   "codemirror_mode": {
    "name": "ipython",
    "version": 3
   },
   "file_extension": ".py",
   "mimetype": "text/x-python",
   "name": "python",
   "nbconvert_exporter": "python",
   "pygments_lexer": "ipython3",
   "version": "3.9.12"
  }
 },
 "nbformat": 4,
 "nbformat_minor": 5
}
